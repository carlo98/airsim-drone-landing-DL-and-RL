{
 "cells": [
  {
   "cell_type": "code",
   "execution_count": 1,
   "metadata": {
    "collapsed": false
   },
   "outputs": [
    {
     "name": "stderr",
     "output_type": "stream",
     "text": [
      "/home/carlo/.local/lib/python3.5/site-packages/tensorflow/python/framework/dtypes.py:516: FutureWarning: Passing (type, 1) or '1type' as a synonym of type is deprecated; in a future version of numpy, it will be understood as (type, (1,)) / '(1,)type'.\n",
      "  _np_qint8 = np.dtype([(\"qint8\", np.int8, 1)])\n",
      "/home/carlo/.local/lib/python3.5/site-packages/tensorflow/python/framework/dtypes.py:517: FutureWarning: Passing (type, 1) or '1type' as a synonym of type is deprecated; in a future version of numpy, it will be understood as (type, (1,)) / '(1,)type'.\n",
      "  _np_quint8 = np.dtype([(\"quint8\", np.uint8, 1)])\n",
      "/home/carlo/.local/lib/python3.5/site-packages/tensorflow/python/framework/dtypes.py:518: FutureWarning: Passing (type, 1) or '1type' as a synonym of type is deprecated; in a future version of numpy, it will be understood as (type, (1,)) / '(1,)type'.\n",
      "  _np_qint16 = np.dtype([(\"qint16\", np.int16, 1)])\n",
      "/home/carlo/.local/lib/python3.5/site-packages/tensorflow/python/framework/dtypes.py:519: FutureWarning: Passing (type, 1) or '1type' as a synonym of type is deprecated; in a future version of numpy, it will be understood as (type, (1,)) / '(1,)type'.\n",
      "  _np_quint16 = np.dtype([(\"quint16\", np.uint16, 1)])\n",
      "/home/carlo/.local/lib/python3.5/site-packages/tensorflow/python/framework/dtypes.py:520: FutureWarning: Passing (type, 1) or '1type' as a synonym of type is deprecated; in a future version of numpy, it will be understood as (type, (1,)) / '(1,)type'.\n",
      "  _np_qint32 = np.dtype([(\"qint32\", np.int32, 1)])\n",
      "/home/carlo/.local/lib/python3.5/site-packages/tensorflow/python/framework/dtypes.py:525: FutureWarning: Passing (type, 1) or '1type' as a synonym of type is deprecated; in a future version of numpy, it will be understood as (type, (1,)) / '(1,)type'.\n",
      "  np_resource = np.dtype([(\"resource\", np.ubyte, 1)])\n",
      "WARNING:root:Limited tf.compat.v2.summary API due to missing TensorBoard installation.\n"
     ]
    }
   ],
   "source": [
    "import os\n",
    "import tensorflow as tf\n",
    "from tensorflow import keras\n",
    "import numpy as np\n",
    "from sklearn.model_selection import train_test_split\n",
    "import pandas as pd"
   ]
  },
  {
   "cell_type": "code",
   "execution_count": 4,
   "metadata": {
    "collapsed": false
   },
   "outputs": [
    {
     "name": "stdout",
     "output_type": "stream",
     "text": [
      "Feature: pos_z\n",
      "Label: ['index']\n"
     ]
    }
   ],
   "source": [
    "data_file = pd.read_csv('data/landingData.csv')\n",
    "column_names = ['pos_z','index']\n",
    "feature_names = column_names[0]\n",
    "label_name = ['index']\n",
    "print(\"Feature: {}\".format(feature_names))\n",
    "print(\"Label: {}\".format(label_name))"
   ]
  },
  {
   "cell_type": "code",
   "execution_count": 5,
   "metadata": {
    "collapsed": false
   },
   "outputs": [],
   "source": [
    "Vx_train, Vx_test, labelVx_train, labelVx_test = train_test_split(data_file[feature_names], data_file[label_name[0]], test_size=0.1)"
   ]
  },
  {
   "cell_type": "code",
   "execution_count": 18,
   "metadata": {
    "collapsed": false
   },
   "outputs": [
    {
     "name": "stdout",
     "output_type": "stream",
     "text": [
      "Model: \"sequential_2\"\n",
      "_________________________________________________________________\n",
      "Layer (type)                 Output Shape              Param #   \n",
      "=================================================================\n",
      "dense_8 (Dense)              (None, 16)                32        \n",
      "_________________________________________________________________\n",
      "dense_9 (Dense)              (None, 32)                544       \n",
      "_________________________________________________________________\n",
      "dense_10 (Dense)             (None, 32)                1056      \n",
      "_________________________________________________________________\n",
      "dense_11 (Dense)             (None, 1)                 33        \n",
      "=================================================================\n",
      "Total params: 1,665\n",
      "Trainable params: 1,665\n",
      "Non-trainable params: 0\n",
      "_________________________________________________________________\n"
     ]
    }
   ],
   "source": [
    "modelVx = keras.Sequential([\n",
    "        keras.layers.Dense(16, activation=tf.nn.relu,input_shape=(1,)),\n",
    "        keras.layers.Dense(32,activation=tf.nn.relu),\n",
    "        keras.layers.Dense(32,activation=tf.nn.relu),\n",
    "        keras.layers.Dense(1)\n",
    "    ])\n",
    "optimizer = tf.keras.optimizers.RMSprop(0.001)\n",
    "modelVx.compile(loss='mse',\n",
    "              optimizer=optimizer,\n",
    "              metrics=['mae']             \n",
    "             )\n",
    "modelVx.summary()"
   ]
  },
  {
   "cell_type": "code",
   "execution_count": 19,
   "metadata": {
    "collapsed": false
   },
   "outputs": [],
   "source": [
    "import matplotlib.pyplot as plt\n",
    "\n",
    "def plot_history(history):\n",
    "    plt.figure()\n",
    "    plt.xlabel('Epoch')\n",
    "    plt.ylabel(\"Mean Abs Error [1000$]\")\n",
    "    plt.plot(history.epoch, np.array(history.history['mean_absolute_error']),\n",
    "            label='Train Loss')\n",
    "    plt.plot(history.epoch, np.array(history.history['val_mean_absolute_error']),\n",
    "            label='Val Loss')\n",
    "    plt.legend()\n",
    "    plt.ylim([0,5])"
   ]
  },
  {
   "cell_type": "code",
   "execution_count": 21,
   "metadata": {
    "collapsed": false,
    "scrolled": true
   },
   "outputs": [
    {
     "name": "stdout",
     "output_type": "stream",
     "text": [
      "Train on 756 samples, validate on 84 samples\n",
      "Epoch 1/60\n",
      "756/756 [==============================] - 0s 92us/sample - loss: 0.6896 - mean_absolute_error: 0.7122 - val_loss: 0.5838 - val_mean_absolute_error: 0.6442\n",
      "Epoch 2/60\n",
      "756/756 [==============================] - 0s 57us/sample - loss: 0.6012 - mean_absolute_error: 0.6640 - val_loss: 0.5195 - val_mean_absolute_error: 0.5753\n",
      "Epoch 3/60\n",
      "756/756 [==============================] - 0s 50us/sample - loss: 0.5434 - mean_absolute_error: 0.6314 - val_loss: 0.5025 - val_mean_absolute_error: 0.6173\n",
      "Epoch 4/60\n",
      "756/756 [==============================] - 0s 65us/sample - loss: 0.4910 - mean_absolute_error: 0.6007 - val_loss: 0.4422 - val_mean_absolute_error: 0.5389\n",
      "Epoch 5/60\n",
      "756/756 [==============================] - 0s 61us/sample - loss: 0.4540 - mean_absolute_error: 0.5786 - val_loss: 0.4505 - val_mean_absolute_error: 0.5843\n",
      "Epoch 6/60\n",
      "756/756 [==============================] - 0s 57us/sample - loss: 0.4259 - mean_absolute_error: 0.5613 - val_loss: 0.4123 - val_mean_absolute_error: 0.5447\n",
      "Epoch 7/60\n",
      "756/756 [==============================] - 0s 48us/sample - loss: 0.4078 - mean_absolute_error: 0.5524 - val_loss: 0.3916 - val_mean_absolute_error: 0.5148\n",
      "Epoch 8/60\n",
      "756/756 [==============================] - 0s 82us/sample - loss: 0.3855 - mean_absolute_error: 0.5346 - val_loss: 0.4018 - val_mean_absolute_error: 0.5512\n",
      "Epoch 9/60\n",
      "756/756 [==============================] - 0s 61us/sample - loss: 0.3796 - mean_absolute_error: 0.5314 - val_loss: 0.3981 - val_mean_absolute_error: 0.5499\n",
      "Epoch 10/60\n",
      "756/756 [==============================] - 0s 64us/sample - loss: 0.3654 - mean_absolute_error: 0.5212 - val_loss: 0.4212 - val_mean_absolute_error: 0.5754\n",
      "Epoch 11/60\n",
      "756/756 [==============================] - 0s 52us/sample - loss: 0.3534 - mean_absolute_error: 0.5103 - val_loss: 0.3638 - val_mean_absolute_error: 0.5179\n",
      "Epoch 12/60\n",
      "756/756 [==============================] - 0s 52us/sample - loss: 0.3401 - mean_absolute_error: 0.5001 - val_loss: 0.3690 - val_mean_absolute_error: 0.5286\n",
      "Epoch 13/60\n",
      "756/756 [==============================] - 0s 67us/sample - loss: 0.3397 - mean_absolute_error: 0.4996 - val_loss: 0.3503 - val_mean_absolute_error: 0.5001\n",
      "Epoch 14/60\n",
      "756/756 [==============================] - 0s 86us/sample - loss: 0.3240 - mean_absolute_error: 0.4831 - val_loss: 0.3880 - val_mean_absolute_error: 0.5496\n",
      "Epoch 15/60\n",
      "756/756 [==============================] - 0s 68us/sample - loss: 0.3293 - mean_absolute_error: 0.4879 - val_loss: 0.3414 - val_mean_absolute_error: 0.4860\n",
      "Epoch 16/60\n",
      "756/756 [==============================] - 0s 64us/sample - loss: 0.3140 - mean_absolute_error: 0.4728 - val_loss: 0.3416 - val_mean_absolute_error: 0.4965\n",
      "Epoch 17/60\n",
      "756/756 [==============================] - 0s 67us/sample - loss: 0.3066 - mean_absolute_error: 0.4646 - val_loss: 0.3337 - val_mean_absolute_error: 0.4617\n",
      "Epoch 18/60\n",
      "756/756 [==============================] - 0s 49us/sample - loss: 0.3058 - mean_absolute_error: 0.4604 - val_loss: 0.3526 - val_mean_absolute_error: 0.5021\n",
      "Epoch 19/60\n",
      "756/756 [==============================] - 0s 58us/sample - loss: 0.2989 - mean_absolute_error: 0.4505 - val_loss: 0.3250 - val_mean_absolute_error: 0.4814\n",
      "Epoch 20/60\n",
      "756/756 [==============================] - 0s 57us/sample - loss: 0.3019 - mean_absolute_error: 0.4553 - val_loss: 0.3198 - val_mean_absolute_error: 0.4579\n",
      "Epoch 21/60\n",
      "756/756 [==============================] - 0s 66us/sample - loss: 0.2905 - mean_absolute_error: 0.4448 - val_loss: 0.3371 - val_mean_absolute_error: 0.4833\n",
      "Epoch 22/60\n",
      "756/756 [==============================] - 0s 57us/sample - loss: 0.2776 - mean_absolute_error: 0.4328 - val_loss: 0.3224 - val_mean_absolute_error: 0.4591\n",
      "Epoch 23/60\n",
      "756/756 [==============================] - 0s 46us/sample - loss: 0.2900 - mean_absolute_error: 0.4398 - val_loss: 0.3517 - val_mean_absolute_error: 0.4956\n",
      "Epoch 24/60\n",
      "756/756 [==============================] - 0s 49us/sample - loss: 0.2800 - mean_absolute_error: 0.4298 - val_loss: 0.3014 - val_mean_absolute_error: 0.4521\n",
      "Epoch 25/60\n",
      "756/756 [==============================] - 0s 61us/sample - loss: 0.2669 - mean_absolute_error: 0.4159 - val_loss: 0.3270 - val_mean_absolute_error: 0.4761\n",
      "Epoch 26/60\n",
      "756/756 [==============================] - 0s 65us/sample - loss: 0.2588 - mean_absolute_error: 0.4110 - val_loss: 0.2988 - val_mean_absolute_error: 0.4554\n",
      "Epoch 27/60\n",
      "756/756 [==============================] - 0s 65us/sample - loss: 0.2509 - mean_absolute_error: 0.4039 - val_loss: 0.3335 - val_mean_absolute_error: 0.4787\n",
      "Epoch 28/60\n",
      "756/756 [==============================] - 0s 71us/sample - loss: 0.2526 - mean_absolute_error: 0.4029 - val_loss: 0.3260 - val_mean_absolute_error: 0.4705\n",
      "Epoch 29/60\n",
      "756/756 [==============================] - 0s 57us/sample - loss: 0.2466 - mean_absolute_error: 0.3996 - val_loss: 0.2755 - val_mean_absolute_error: 0.4328\n",
      "Epoch 30/60\n",
      "756/756 [==============================] - 0s 53us/sample - loss: 0.2421 - mean_absolute_error: 0.3946 - val_loss: 0.3265 - val_mean_absolute_error: 0.4770\n",
      "Epoch 31/60\n",
      "756/756 [==============================] - 0s 63us/sample - loss: 0.2431 - mean_absolute_error: 0.3942 - val_loss: 0.3608 - val_mean_absolute_error: 0.4946\n",
      "Epoch 32/60\n",
      "756/756 [==============================] - 0s 64us/sample - loss: 0.2350 - mean_absolute_error: 0.3874 - val_loss: 0.2567 - val_mean_absolute_error: 0.4163\n",
      "Epoch 33/60\n",
      "756/756 [==============================] - 0s 66us/sample - loss: 0.2250 - mean_absolute_error: 0.3780 - val_loss: 0.2526 - val_mean_absolute_error: 0.4128\n",
      "Epoch 34/60\n",
      "756/756 [==============================] - 0s 55us/sample - loss: 0.2307 - mean_absolute_error: 0.3795 - val_loss: 0.2570 - val_mean_absolute_error: 0.4053\n",
      "Epoch 35/60\n",
      "756/756 [==============================] - 0s 81us/sample - loss: 0.2255 - mean_absolute_error: 0.3713 - val_loss: 0.2534 - val_mean_absolute_error: 0.4080\n",
      "Epoch 36/60\n",
      "756/756 [==============================] - 0s 50us/sample - loss: 0.2181 - mean_absolute_error: 0.3679 - val_loss: 0.2417 - val_mean_absolute_error: 0.3992\n",
      "Epoch 37/60\n",
      "756/756 [==============================] - 0s 65us/sample - loss: 0.2130 - mean_absolute_error: 0.3617 - val_loss: 0.2351 - val_mean_absolute_error: 0.3892\n",
      "Epoch 38/60\n",
      "756/756 [==============================] - 0s 65us/sample - loss: 0.2087 - mean_absolute_error: 0.3572 - val_loss: 0.2367 - val_mean_absolute_error: 0.3844\n",
      "Epoch 39/60\n",
      "756/756 [==============================] - 0s 53us/sample - loss: 0.2141 - mean_absolute_error: 0.3631 - val_loss: 0.2498 - val_mean_absolute_error: 0.3997\n",
      "Epoch 40/60\n",
      "756/756 [==============================] - 0s 57us/sample - loss: 0.2008 - mean_absolute_error: 0.3457 - val_loss: 0.2471 - val_mean_absolute_error: 0.3978\n",
      "Epoch 41/60\n",
      "756/756 [==============================] - 0s 49us/sample - loss: 0.2007 - mean_absolute_error: 0.3465 - val_loss: 0.2503 - val_mean_absolute_error: 0.3958\n",
      "Epoch 42/60\n",
      "756/756 [==============================] - 0s 61us/sample - loss: 0.1979 - mean_absolute_error: 0.3409 - val_loss: 0.2203 - val_mean_absolute_error: 0.3714\n",
      "Epoch 43/60\n",
      "756/756 [==============================] - 0s 50us/sample - loss: 0.1967 - mean_absolute_error: 0.3440 - val_loss: 0.2412 - val_mean_absolute_error: 0.3959\n",
      "Epoch 44/60\n",
      "756/756 [==============================] - 0s 62us/sample - loss: 0.1911 - mean_absolute_error: 0.3354 - val_loss: 0.2218 - val_mean_absolute_error: 0.3629\n",
      "Epoch 45/60\n",
      "756/756 [==============================] - 0s 64us/sample - loss: 0.1920 - mean_absolute_error: 0.3326 - val_loss: 0.2207 - val_mean_absolute_error: 0.3639\n",
      "Epoch 46/60\n",
      "756/756 [==============================] - 0s 58us/sample - loss: 0.1852 - mean_absolute_error: 0.3264 - val_loss: 0.2167 - val_mean_absolute_error: 0.3682\n",
      "Epoch 47/60\n",
      "756/756 [==============================] - 0s 64us/sample - loss: 0.1819 - mean_absolute_error: 0.3264 - val_loss: 0.2105 - val_mean_absolute_error: 0.3586\n",
      "Epoch 48/60\n",
      "756/756 [==============================] - 0s 83us/sample - loss: 0.1800 - mean_absolute_error: 0.3238 - val_loss: 0.1996 - val_mean_absolute_error: 0.3466\n",
      "Epoch 49/60\n",
      "756/756 [==============================] - 0s 86us/sample - loss: 0.1723 - mean_absolute_error: 0.3145 - val_loss: 0.1997 - val_mean_absolute_error: 0.3396\n",
      "Epoch 50/60\n",
      "756/756 [==============================] - 0s 61us/sample - loss: 0.1735 - mean_absolute_error: 0.3142 - val_loss: 0.1921 - val_mean_absolute_error: 0.3307\n",
      "Epoch 51/60\n",
      "756/756 [==============================] - 0s 53us/sample - loss: 0.1691 - mean_absolute_error: 0.3124 - val_loss: 0.1888 - val_mean_absolute_error: 0.3331\n",
      "Epoch 52/60\n",
      "756/756 [==============================] - 0s 52us/sample - loss: 0.1659 - mean_absolute_error: 0.3045 - val_loss: 0.1937 - val_mean_absolute_error: 0.3375\n",
      "Epoch 53/60\n",
      "756/756 [==============================] - 0s 74us/sample - loss: 0.1673 - mean_absolute_error: 0.3101 - val_loss: 0.1998 - val_mean_absolute_error: 0.3401\n",
      "Epoch 54/60\n",
      "756/756 [==============================] - 0s 68us/sample - loss: 0.1649 - mean_absolute_error: 0.3064 - val_loss: 0.1913 - val_mean_absolute_error: 0.3269\n",
      "Epoch 55/60\n",
      "756/756 [==============================] - 0s 94us/sample - loss: 0.1569 - mean_absolute_error: 0.2942 - val_loss: 0.2059 - val_mean_absolute_error: 0.3507\n",
      "Epoch 56/60\n",
      "756/756 [==============================] - 0s 74us/sample - loss: 0.1558 - mean_absolute_error: 0.2963 - val_loss: 0.1746 - val_mean_absolute_error: 0.3126\n",
      "Epoch 57/60\n",
      "756/756 [==============================] - 0s 85us/sample - loss: 0.1559 - mean_absolute_error: 0.2972 - val_loss: 0.1728 - val_mean_absolute_error: 0.3104\n",
      "Epoch 58/60\n",
      "756/756 [==============================] - 0s 85us/sample - loss: 0.1473 - mean_absolute_error: 0.2833 - val_loss: 0.1800 - val_mean_absolute_error: 0.3215\n",
      "Epoch 59/60\n",
      "756/756 [==============================] - 0s 60us/sample - loss: 0.1505 - mean_absolute_error: 0.2867 - val_loss: 0.1671 - val_mean_absolute_error: 0.3022\n",
      "Epoch 60/60\n",
      "756/756 [==============================] - 0s 82us/sample - loss: 0.1457 - mean_absolute_error: 0.2821 - val_loss: 0.1968 - val_mean_absolute_error: 0.3341\n"
     ]
    },
    {
     "data": {
      "image/png": "[encoded data removed]",
      "text/plain": [
       "<matplotlib.figure.Figure at 0x7ff24c0194a8>"
      ]
     },
     "metadata": {
      "needs_background": "light"
     },
     "output_type": "display_data"
    }
   ],
   "source": [
    "EPOCHS = 60\n",
    "history=modelVx.fit(Vx_train,\n",
    "                  labelVx_train,\n",
    "                  epochs=EPOCHS,\n",
    "                  validation_split=0.1,\n",
    "                  verbose=1\n",
    "                 )\n",
    "plot_history(history)"
   ]
  },
  {
   "cell_type": "code",
   "execution_count": 22,
   "metadata": {
    "collapsed": false
   },
   "outputs": [
    {
     "name": "stdout",
     "output_type": "stream",
     "text": [
      "94/94 [==============================] - 0s 100us/sample - loss: 0.1845 - mean_absolute_error: 0.3076\n",
      "Testing set Mean Abs Error: $ 307.65\n"
     ]
    }
   ],
   "source": [
    "[loss, mae] = modelVx.evaluate(Vx_test, labelVx_test, verbose=1)\n",
    "print(\"Testing set Mean Abs Error: ${:7.2f}\".format(mae * 1000))"
   ]
  },
  {
   "cell_type": "code",
   "execution_count": 23,
   "metadata": {
    "collapsed": false
   },
   "outputs": [],
   "source": [
    "modelVx.save(\"models/modelVerticalNN.h5\")"
   ]
  },
  {
   "cell_type": "code",
   "execution_count": null,
   "metadata": {
    "collapsed": true
   },
   "outputs": [],
   "source": []
  }
 ],
 "metadata": {
  "anaconda-cloud": {},
  "kernelspec": {
   "display_name": "Python [cntk-py35]",
   "language": "python",
   "name": "Python [cntk-py35]"
  },
  "language_info": {
   "codemirror_mode": {
    "name": "ipython",
    "version": 3
   },
   "file_extension": ".py",
   "mimetype": "text/x-python",
   "name": "python",
   "nbconvert_exporter": "python",
   "pygments_lexer": "ipython3",
   "version": "3.5.2"
  }
 },
 "nbformat": 4,
 "nbformat_minor": 0
}
