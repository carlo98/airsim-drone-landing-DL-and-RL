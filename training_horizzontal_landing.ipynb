{
 "cells": [
  {
   "cell_type": "markdown",
   "metadata": {
    "colab_type": "text",
    "id": "qeeZd0O0JCbU"
   },
   "source": [
    "###  Unzip data"
   ]
  },
  {
   "cell_type": "code",
   "execution_count": null,
   "metadata": {
    "colab": {},
    "colab_type": "code",
    "collapsed": true,
    "id": "uewahsWlJCba"
   },
   "outputs": [],
   "source": [
    "#IF TRAINING IN LOCALE\n",
    "#import os\n",
    "#import zipfile\n",
    "\n",
    "#local_zip = 'dataHor.zip'\n",
    "#zip_ref = zipfile.ZipFile(local_zip, 'r')\n",
    "#zip_ref.extractall('/tmp/myData')\n",
    "#zip_ref.close()"
   ]
  },
  {
   "cell_type": "code",
   "execution_count": null,
   "metadata": {
    "colab": {
     "base_uri": "https://localhost:8080/",
     "height": 124
    },
    "colab_type": "code",
    "collapsed": false,
    "executionInfo": {
     "elapsed": 25420,
     "status": "ok",
     "timestamp": 1569313427503,
     "user": {
      "displayName": "Carlo Cena",
      "photoUrl": "https://lh3.googleusercontent.com/a-/AAuE7mBsxsABG8hnSmVvkdowUOo1dtFMVq6PLXfpyF3TLg=s64",
      "userId": "14201859508342393884"
     },
     "user_tz": -120
    },
    "id": "hrCt4kFDMZLP",
    "outputId": "f720b150-e3f4-4fc7-a311-054e4b53b4e2"
   },
   "outputs": [],
   "source": [
    "#IF TRAINING WITH GOOGLE COLABORATORY\n",
    "# Run this cell to mount your Google Drive.\n",
    "from google.colab import drive\n",
    "import os\n",
    "drive.mount('/content/drive')"
   ]
  },
  {
   "cell_type": "code",
   "execution_count": null,
   "metadata": {
    "colab": {},
    "colab_type": "code",
    "collapsed": true,
    "id": "p7e1aL2VJRud"
   },
   "outputs": [],
   "source": [
    "#IF TRAINING WITH GOOGLE COLABORATORY\n",
    "!unzip -uq drive/\"My Drive\"/draft/landingHor/dataHor.zip"
   ]
  },
  {
   "cell_type": "code",
   "execution_count": null,
   "metadata": {
    "colab": {},
    "colab_type": "code",
    "collapsed": true,
    "id": "Ma4I8RwFJ-qq"
   },
   "outputs": [],
   "source": [
    "#IF TRAINING WITH GOOGLE COLABORATORY\n",
    "!unzip -uq drive/\"My Drive\"/draft/landingHor/testDataHor.zip"
   ]
  },
  {
   "cell_type": "markdown",
   "metadata": {
    "colab_type": "text",
    "id": "J3bdQ_kfJCbm"
   },
   "source": [
    "ImageGenerator will be used to read images from subdirectories, and automatically label them from the name of that subdirectory.\n"
   ]
  },
  {
   "cell_type": "code",
   "execution_count": null,
   "metadata": {
    "colab": {},
    "colab_type": "code",
    "collapsed": true,
    "id": "0H7luZKHJCbp"
   },
   "outputs": [],
   "source": [
    "#CHANGE PATH IMAGES\n",
    "train_trigger_dir = os.path.join('/content/dataHor/trigger')\n",
    "train_up_dir = os.path.join('/content/dataHor/up')\n",
    "train_down_dir = os.path.join('/content/dataHor/down')\n",
    "train_right_dir = os.path.join('/content/dataHor/right')\n",
    "train_left_dir = os.path.join('/content/dataHor/left')"
   ]
  },
  {
   "cell_type": "code",
   "execution_count": null,
   "metadata": {
    "colab": {
     "base_uri": "https://localhost:8080/",
     "height": 124
    },
    "colab_type": "code",
    "collapsed": false,
    "executionInfo": {
     "elapsed": 1152,
     "status": "ok",
     "timestamp": 1569314190763,
     "user": {
      "displayName": "Carlo Cena",
      "photoUrl": "https://lh3.googleusercontent.com/a-/AAuE7mBsxsABG8hnSmVvkdowUOo1dtFMVq6PLXfpyF3TLg=s64",
      "userId": "14201859508342393884"
     },
     "user_tz": -120
    },
    "id": "cIZVEQPFJCbw",
    "outputId": "f5ce2d17-2690-4587-b019-1934f5e82557"
   },
   "outputs": [],
   "source": [
    "train_trigger_names = os.listdir(train_trigger_dir)\n",
    "print(train_trigger_names[:10])\n",
    "\n",
    "train_up_names = os.listdir(train_up_dir)\n",
    "print(train_up_names[:10])\n",
    "\n",
    "train_down_names = os.listdir(train_down_dir)\n",
    "print(train_down_names[:10])\n",
    "\n",
    "train_right_names = os.listdir(train_right_dir)\n",
    "print(train_right_names[:10])\n",
    "\n",
    "train_left_names = os.listdir(train_left_dir)\n",
    "print(train_left_names[:10])"
   ]
  },
  {
   "cell_type": "markdown",
   "metadata": {
    "colab_type": "text",
    "id": "CXkSlD0lJCb5"
   },
   "source": [
    "Total number of images in the directories:"
   ]
  },
  {
   "cell_type": "code",
   "execution_count": null,
   "metadata": {
    "colab": {
     "base_uri": "https://localhost:8080/",
     "height": 104
    },
    "colab_type": "code",
    "collapsed": false,
    "executionInfo": {
     "elapsed": 1524,
     "status": "ok",
     "timestamp": 1569314192809,
     "user": {
      "displayName": "Carlo Cena",
      "photoUrl": "https://lh3.googleusercontent.com/a-/AAuE7mBsxsABG8hnSmVvkdowUOo1dtFMVq6PLXfpyF3TLg=s64",
      "userId": "14201859508342393884"
     },
     "user_tz": -120
    },
    "id": "5VWbdOBwJCb7",
    "outputId": "958fc5f4-e37f-4043-93a3-7b2bd2f0e386"
   },
   "outputs": [],
   "source": [
    "print('total training trigger images:', len(os.listdir(train_trigger_dir)))\n",
    "print('total training up images:', len(os.listdir(train_up_dir)))\n",
    "print('total training down images:', len(os.listdir(train_down_dir)))\n",
    "print('total training right images:', len(os.listdir(train_right_dir)))\n",
    "print('total training left images:', len(os.listdir(train_left_dir)))"
   ]
  },
  {
   "cell_type": "markdown",
   "metadata": {
    "colab_type": "text",
    "id": "IoqjRBFsJCcB"
   },
   "source": [
    "Printing same pictures\n"
   ]
  },
  {
   "cell_type": "code",
   "execution_count": null,
   "metadata": {
    "colab": {},
    "colab_type": "code",
    "collapsed": true,
    "id": "DN-G2LaMJCcE"
   },
   "outputs": [],
   "source": [
    "%matplotlib inline\n",
    "\n",
    "import matplotlib.pyplot as plt\n",
    "import matplotlib.image as mpimg\n",
    "\n",
    "# Parameters for our graph; we'll output images in a 4x4 configuration\n",
    "nrows = 4\n",
    "ncols = 4\n",
    "\n",
    "# Index for iterating over images\n",
    "pic_index = 0"
   ]
  },
  {
   "cell_type": "code",
   "execution_count": null,
   "metadata": {
    "colab": {
     "base_uri": "https://localhost:8080/",
     "height": 841
    },
    "colab_type": "code",
    "collapsed": false,
    "executionInfo": {
     "elapsed": 6535,
     "status": "ok",
     "timestamp": 1569314200056,
     "user": {
      "displayName": "Carlo Cena",
      "photoUrl": "https://lh3.googleusercontent.com/a-/AAuE7mBsxsABG8hnSmVvkdowUOo1dtFMVq6PLXfpyF3TLg=s64",
      "userId": "14201859508342393884"
     },
     "user_tz": -120
    },
    "id": "EvdehwfNJCcL",
    "outputId": "a82a29d8-0453-443d-ab24-0e4a2ac920ec"
   },
   "outputs": [],
   "source": [
    "# Set up matplotlib fig, and size it to fit 4x4 pics\n",
    "fig = plt.gcf()\n",
    "fig.set_size_inches(ncols * 4, nrows * 4)\n",
    "\n",
    "pic_index += 8\n",
    "next_trigger_pix = [os.path.join(train_trigger_dir, fname) \n",
    "                for fname in train_trigger_names[pic_index-8:pic_index]]\n",
    "next_up_pix = [os.path.join(train_up_dir, fname) \n",
    "                for fname in train_up_names[pic_index-8:pic_index]]\n",
    "\n",
    "for i, img_path in enumerate(next_trigger_pix+next_up_pix):\n",
    "  # Set up subplot; subplot indices start at 1\n",
    "  sp = plt.subplot(nrows, ncols, i + 1)\n",
    "  sp.axis('Off') # Don't show axes (or gridlines)\n",
    "\n",
    "  img = mpimg.imread(img_path)\n",
    "  plt.imshow(img)\n",
    "\n",
    "plt.show()"
   ]
  },
  {
   "cell_type": "markdown",
   "metadata": {
    "colab_type": "text",
    "id": "DTUV23EyJCcT"
   },
   "source": [
    "## Building Model"
   ]
  },
  {
   "cell_type": "code",
   "execution_count": null,
   "metadata": {
    "colab": {},
    "colab_type": "code",
    "collapsed": true,
    "id": "GE-uFn6kJCca"
   },
   "outputs": [],
   "source": [
    "import tensorflow as tf"
   ]
  },
  {
   "cell_type": "markdown",
   "metadata": {
    "colab_type": "text",
    "id": "DTdOteSDJCcf"
   },
   "source": [
    "Using softmax activation function to have outputs between 0 and 1, as probabilities.\n"
   ]
  },
  {
   "cell_type": "code",
   "execution_count": null,
   "metadata": {
    "colab": {},
    "colab_type": "code",
    "collapsed": true,
    "id": "xA4a6vcDJCch"
   },
   "outputs": [],
   "source": [
    "model = tf.keras.models.Sequential([\n",
    "    # Note the input shape is the desired size of the image 150x150 with 3 bytes color\n",
    "    # This is the first convolution\n",
    "    tf.keras.layers.Conv2D(64, (3,3), activation='relu', input_shape=(150, 150, 3), padding='same'),\n",
    "    tf.keras.layers.MaxPooling2D(2, 2, padding='same'),\n",
    "    # The third convolution\n",
    "    tf.keras.layers.Conv2D(16, (3,3), activation='relu', padding='same'),\n",
    "    tf.keras.layers.MaxPooling2D(2,2, padding='same'),\n",
    "    # The fifth convolution\n",
    "    tf.keras.layers.Conv2D(8, (3,3), activation='relu', padding='same'),\n",
    "    tf.keras.layers.MaxPooling2D(2,2, padding='same'),\n",
    "    # Flatten the results to feed into a DNN\n",
    "    tf.keras.layers.Flatten(),\n",
    "    tf.keras.layers.Dense(256, activation='relu'),\n",
    "    tf.keras.layers.Dense(256, activation='relu'),\n",
    "    tf.keras.layers.Dense(128, activation='relu'),\n",
    "    tf.keras.layers.Dense(64, activation='relu'),\n",
    "    tf.keras.layers.Dense(64, activation='relu'),\n",
    "    tf.keras.layers.Dense(64, activation='relu'),\n",
    "    tf.keras.layers.Dense(32, activation='relu'),\n",
    "    tf.keras.layers.Dense(32, activation='relu'),\n",
    "    tf.keras.layers.Dense(16, activation='relu'),\n",
    "    tf.keras.layers.Dense(5, activation='softmax')\n",
    "])"
   ]
  },
  {
   "cell_type": "code",
   "execution_count": null,
   "metadata": {
    "colab": {
     "base_uri": "https://localhost:8080/",
     "height": 746
    },
    "colab_type": "code",
    "collapsed": false,
    "executionInfo": {
     "elapsed": 1033,
     "status": "ok",
     "timestamp": 1569314865761,
     "user": {
      "displayName": "Carlo Cena",
      "photoUrl": "https://lh3.googleusercontent.com/a-/AAuE7mBsxsABG8hnSmVvkdowUOo1dtFMVq6PLXfpyF3TLg=s64",
      "userId": "14201859508342393884"
     },
     "user_tz": -120
    },
    "id": "RuDyvb-4JCcn",
    "outputId": "792af7bf-ef1d-4ca7-d096-42ebee487eb4"
   },
   "outputs": [],
   "source": [
    "model.summary()"
   ]
  },
  {
   "cell_type": "markdown",
   "metadata": {
    "colab_type": "text",
    "id": "Is4eMFQtJCcu"
   },
   "source": [
    " [Adam](https://wikipedia.org/wiki/Stochastic_gradient_descent#Adam)  automatically adapt the learning rate during training."
   ]
  },
  {
   "cell_type": "code",
   "execution_count": null,
   "metadata": {
    "colab": {},
    "colab_type": "code",
    "collapsed": true,
    "id": "nWtnIj5oJCcw"
   },
   "outputs": [],
   "source": [
    "from tensorflow.keras.optimizers import RMSprop\n",
    "\n",
    "model.compile(loss='categorical_crossentropy',\n",
    "              optimizer='adam',\n",
    "              metrics=['acc'])"
   ]
  },
  {
   "cell_type": "markdown",
   "metadata": {
    "colab_type": "text",
    "id": "Qrluk3_OJCc1"
   },
   "source": [
    "### Data Preprocessing"
   ]
  },
  {
   "cell_type": "code",
   "execution_count": null,
   "metadata": {
    "colab": {
     "base_uri": "https://localhost:8080/",
     "height": 52
    },
    "colab_type": "code",
    "collapsed": false,
    "executionInfo": {
     "elapsed": 1561,
     "status": "ok",
     "timestamp": 1569314870594,
     "user": {
      "displayName": "Carlo Cena",
      "photoUrl": "https://lh3.googleusercontent.com/a-/AAuE7mBsxsABG8hnSmVvkdowUOo1dtFMVq6PLXfpyF3TLg=s64",
      "userId": "14201859508342393884"
     },
     "user_tz": -120
    },
    "id": "5dukIRn9JCc3",
    "outputId": "1423e54f-f536-4919-f22c-4f6a0b371def"
   },
   "outputs": [],
   "source": [
    "from tensorflow.keras.preprocessing.image import ImageDataGenerator\n",
    "\n",
    "# All images will be rescaled by 1./255\n",
    "train_datagen = ImageDataGenerator(rescale=1/255)\n",
    "validation_datagen = ImageDataGenerator(rescale=1/255)\n",
    "\n",
    "#CHANGE PATH IMAGES\n",
    "\n",
    "# Flow training images in batches of 128 using train_datagen generator\n",
    "train_generator = train_datagen.flow_from_directory(\n",
    "        '/content/dataHor/',  # This is the source directory for training images\n",
    "        target_size=(150, 150),  # All images will be resized to 150x150\n",
    "        batch_size=128,\n",
    "        class_mode='categorical')\n",
    "\n",
    "# Flow training images in batches of 128 using train_datagen generator\n",
    "validation_generator = validation_datagen.flow_from_directory(\n",
    "        '/content/testDataHor/',  # This is the source directory for training images\n",
    "        target_size=(150, 150),  # All images will be resized to 150x150\n",
    "        batch_size=128,\n",
    "        class_mode='categorical')"
   ]
  },
  {
   "cell_type": "code",
   "execution_count": null,
   "metadata": {
    "colab": {
     "base_uri": "https://localhost:8080/",
     "height": 34
    },
    "colab_type": "code",
    "collapsed": false,
    "executionInfo": {
     "elapsed": 534,
     "status": "ok",
     "timestamp": 1569314255547,
     "user": {
      "displayName": "Carlo Cena",
      "photoUrl": "https://lh3.googleusercontent.com/a-/AAuE7mBsxsABG8hnSmVvkdowUOo1dtFMVq6PLXfpyF3TLg=s64",
      "userId": "14201859508342393884"
     },
     "user_tz": -120
    },
    "id": "Ox6YdBfoJCc9",
    "outputId": "c53c84df-3fca-4076-abbd-661ddc8771b6"
   },
   "outputs": [],
   "source": [
    "train_generator.class_indices"
   ]
  },
  {
   "cell_type": "markdown",
   "metadata": {
    "colab_type": "text",
    "id": "q6uSeq7QJCdC"
   },
   "source": [
    "### Training\n"
   ]
  },
  {
   "cell_type": "code",
   "execution_count": null,
   "metadata": {
    "colab": {},
    "colab_type": "code",
    "collapsed": true,
    "id": "GgZZcPkoyRCI"
   },
   "outputs": [],
   "source": [
    "ACCURACY_THRESHOLD = 0.95\n",
    "# Implement callback function to stop training\n",
    "# when accuracy reaches e.g. ACCURACY_THRESHOLD = 0.95\n",
    "class myCallback(tf.keras.callbacks.Callback): \n",
    "    def on_epoch_end(self, epoch, logs={}): \n",
    "        if(logs.get('acc') > ACCURACY_THRESHOLD):   \n",
    "            print(\"\\nReached %2.2f%% accuracy, so stopping training!!\" %(ACCURACY_THRESHOLD*100))   \n",
    "            self.model.stop_training = True"
   ]
  },
  {
   "cell_type": "code",
   "execution_count": null,
   "metadata": {
    "colab": {},
    "colab_type": "code",
    "collapsed": true,
    "id": "PGEt-v70b9tt"
   },
   "outputs": [],
   "source": [
    "import matplotlib.pyplot as plt\n",
    "import numpy as np\n",
    "\n",
    "def plot_history(history):\n",
    "    plt.figure()\n",
    "    plt.xlabel('Epoch')\n",
    "    plt.ylabel(\"Mean Abs Error [1000$]\")\n",
    "    plt.plot(history.epoch, np.array(history.history['acc']),\n",
    "            label='Train Loss')\n",
    "    plt.plot(history.epoch, np.array(history.history['val_acc']),\n",
    "            label='Val Loss')\n",
    "    plt.legend()\n",
    "    plt.ylim([0,5])"
   ]
  },
  {
   "cell_type": "code",
   "execution_count": null,
   "metadata": {
    "colab": {
     "base_uri": "https://localhost:8080/",
     "height": 1000
    },
    "colab_type": "code",
    "collapsed": false,
    "executionInfo": {
     "elapsed": 105117,
     "status": "ok",
     "timestamp": 1569314978108,
     "user": {
      "displayName": "Carlo Cena",
      "photoUrl": "https://lh3.googleusercontent.com/a-/AAuE7mBsxsABG8hnSmVvkdowUOo1dtFMVq6PLXfpyF3TLg=s64",
      "userId": "14201859508342393884"
     },
     "user_tz": -120
    },
    "id": "dJVkOKNiJCdE",
    "outputId": "0f3f9667-529c-4a9e-ef7b-231c5fb9b946"
   },
   "outputs": [],
   "source": [
    "callbacks = myCallback()\n",
    "\n",
    "history = model.fit_generator(\n",
    "      train_generator,\n",
    "      steps_per_epoch=4,  \n",
    "      epochs=500,\n",
    "      verbose=1,\n",
    "      validation_data = validation_generator,\n",
    "      validation_steps=4,\n",
    "      callbacks=[callbacks]\n",
    ")\n",
    "plot_history(history)"
   ]
  },
  {
   "cell_type": "markdown",
   "metadata": {
    "colab_type": "text",
    "id": "5S43f-XbJCdI"
   },
   "source": [
    "### Saving the model"
   ]
  },
  {
   "cell_type": "code",
   "execution_count": null,
   "metadata": {
    "colab": {
     "base_uri": "https://localhost:8080/",
     "height": 34
    },
    "colab_type": "code",
    "collapsed": false,
    "executionInfo": {
     "elapsed": 1534,
     "status": "ok",
     "timestamp": 1569314788678,
     "user": {
      "displayName": "Carlo Cena",
      "photoUrl": "https://lh3.googleusercontent.com/a-/AAuE7mBsxsABG8hnSmVvkdowUOo1dtFMVq6PLXfpyF3TLg=s64",
      "userId": "14201859508342393884"
     },
     "user_tz": -120
    },
    "id": "WPhE2dSYJCdK",
    "outputId": "cd8cd3f5-eeaa-48cc-94cf-0f65b3ef33b2"
   },
   "outputs": [],
   "source": [
    "#IF TRAINING WITH GOOGLE COLABORATORY\n",
    "model.save(\"/tmp/model.h5\")\n",
    "#IF TRAINING IN LOCALE\n",
    "#model.save(\"model.h5\")\n",
    "print(\"Model saved in disk\")"
   ]
  },
  {
   "cell_type": "markdown",
   "metadata": {
    "colab_type": "text",
    "id": "OlNGdgKdJCdQ"
   },
   "source": [
    "### Running the Model\n"
   ]
  },
  {
   "cell_type": "code",
   "execution_count": null,
   "metadata": {
    "colab": {
     "base_uri": "https://localhost:8080/",
     "height": 34
    },
    "colab_type": "code",
    "collapsed": false,
    "executionInfo": {
     "elapsed": 1093,
     "status": "ok",
     "timestamp": 1569314782792,
     "user": {
      "displayName": "Carlo Cena",
      "photoUrl": "https://lh3.googleusercontent.com/a-/AAuE7mBsxsABG8hnSmVvkdowUOo1dtFMVq6PLXfpyF3TLg=s64",
      "userId": "14201859508342393884"
     },
     "user_tz": -120
    },
    "id": "V423dQMfJCdR",
    "outputId": "168afceb-6bb6-44fd-e703-8b38410dac7e"
   },
   "outputs": [],
   "source": [
    "import numpy as np\n",
    "from keras.preprocessing import image\n",
    "\n",
    "#CHANGE PATH PICTURE\n",
    "# predicting images\n",
    "fn = '/content/testDataHor/trigger/img__0_1568836702966536000.png'\n",
    "img = image.load_img(fn, target_size=(150, 150))\n",
    "x = image.img_to_array(img)\n",
    "x = np.expand_dims(x, axis=0)\n",
    "\n",
    "images = np.vstack([x])\n",
    "classes = model.predict(images, batch_size=10)\n",
    "print(classes[0])\n",
    " "
   ]
  },
  {
   "cell_type": "markdown",
   "metadata": {
    "colab_type": "text",
    "id": "hRt9sUm9JCdY"
   },
   "source": [
    "### Visualizing Intermediate Representations"
   ]
  },
  {
   "cell_type": "code",
   "execution_count": null,
   "metadata": {
    "colab": {
     "base_uri": "https://localhost:8080/",
     "height": 694
    },
    "colab_type": "code",
    "collapsed": false,
    "executionInfo": {
     "elapsed": 2625,
     "status": "ok",
     "timestamp": 1569314850594,
     "user": {
      "displayName": "Carlo Cena",
      "photoUrl": "https://lh3.googleusercontent.com/a-/AAuE7mBsxsABG8hnSmVvkdowUOo1dtFMVq6PLXfpyF3TLg=s64",
      "userId": "14201859508342393884"
     },
     "user_tz": -120
    },
    "id": "uewItDKJJCdY",
    "outputId": "e1c9ed3a-d836-47d6-e367-38d4f2551146"
   },
   "outputs": [],
   "source": [
    "import numpy as np\n",
    "import random\n",
    "from tensorflow.keras.preprocessing.image import img_to_array, load_img\n",
    "\n",
    "# Let's define a new Model that will take an image as input, and will output\n",
    "# intermediate representations for all layers in the previous model after\n",
    "# the first.\n",
    "successive_outputs = [layer.output for layer in model.layers[1:]]\n",
    "#visualization_model = Model(img_input, successive_outputs)\n",
    "visualization_model = tf.keras.models.Model(inputs = model.input, outputs = successive_outputs)\n",
    "# Let's prepare a random input image from the training set.\n",
    "trigger_img_files = [os.path.join(train_trigger_dir, f) for f in train_trigger_names]\n",
    "up_img_files = [os.path.join(train_up_dir, f) for f in train_up_names]\n",
    "img_path = random.choice(trigger_img_files + up_img_files)\n",
    "\n",
    "img = load_img(img_path, target_size=(150, 150))  # this is a PIL image\n",
    "x = img_to_array(img)  # Numpy array with shape (150, 150, 3)\n",
    "x = x.reshape((1,) + x.shape)  # Numpy array with shape (1, 150, 150, 3)\n",
    "\n",
    "# Rescale by 1/255\n",
    "x /= 255\n",
    "\n",
    "# Let's run our image through our network, thus obtaining all\n",
    "# intermediate representations for this image.\n",
    "successive_feature_maps = visualization_model.predict(x)\n",
    "\n",
    "# These are the names of the layers, so can have them as part of our plot\n",
    "layer_names = [layer.name for layer in model.layers]\n",
    "\n",
    "# Now let's display our representations\n",
    "for layer_name, feature_map in zip(layer_names, successive_feature_maps):\n",
    "  if len(feature_map.shape) == 4:\n",
    "    # Just do this for the conv / maxpool layers, not the fully-connected layers\n",
    "    n_features = feature_map.shape[-1]  # number of features in feature map\n",
    "    # The feature map has shape (1, size, size, n_features)\n",
    "    size = feature_map.shape[1]\n",
    "    # We will tile our images in this matrix\n",
    "    display_grid = np.zeros((size, size * n_features))\n",
    "    for i in range(n_features):\n",
    "      # Postprocess the feature to make it visually palatable\n",
    "      x = feature_map[0, :, :, i]\n",
    "      x -= x.mean()\n",
    "      x /= x.std()\n",
    "      x *= 64\n",
    "      x += 128\n",
    "      x = np.clip(x, 0, 255).astype('uint8')\n",
    "      # We'll tile each filter into this big horizontal grid\n",
    "      display_grid[:, i * size : (i + 1) * size] = x\n",
    "    # Display the grid\n",
    "    scale = 20. / n_features\n",
    "    plt.figure(figsize=(scale * n_features, scale))\n",
    "    plt.title(layer_name)\n",
    "    plt.grid(False)\n",
    "    plt.imshow(display_grid, aspect='auto', cmap='viridis')"
   ]
  },
  {
   "cell_type": "markdown",
   "metadata": {
    "colab_type": "text",
    "id": "aRupNEXUJCdd"
   },
   "source": [
    "\n"
   ]
  },
  {
   "cell_type": "code",
   "execution_count": null,
   "metadata": {
    "colab": {},
    "colab_type": "code",
    "collapsed": true,
    "id": "mGvKwvl-JCde"
   },
   "outputs": [],
   "source": []
  }
 ],
 "metadata": {
  "accelerator": "GPU",
  "anaconda-cloud": {},
  "colab": {
   "collapsed_sections": [],
   "name": "horizzontal_landing.ipynb",
   "provenance": [],
   "toc_visible": true
  },
  "kernelspec": {
   "display_name": "Python [cntk-py35]",
   "language": "python",
   "name": "Python [cntk-py35]"
  },
  "language_info": {
   "codemirror_mode": {
    "name": "ipython",
    "version": 3
   },
   "file_extension": ".py",
   "mimetype": "text/x-python",
   "name": "python",
   "nbconvert_exporter": "python",
   "pygments_lexer": "ipython3",
   "version": "3.5.2"
  }
 },
 "nbformat": 4,
 "nbformat_minor": 0
}
